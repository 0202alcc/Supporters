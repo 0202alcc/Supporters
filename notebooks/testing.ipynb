{
 "cells": [
  {
   "cell_type": "markdown",
   "metadata": {},
   "source": [
    "Multithreading:"
   ]
  },
  {
   "cell_type": "code",
   "execution_count": 1,
   "metadata": {},
   "outputs": [
    {
     "name": "stdout",
     "output_type": "stream",
     "text": [
      "Square: 100Cube: 1000\n",
      "\n",
      "Done!\n"
     ]
    }
   ],
   "source": [
    "import threading\n",
    "\n",
    "\n",
    "def print_cube(num):\n",
    "    print(\"Cube: {}\" .format(num * num * num))\n",
    "\n",
    "\n",
    "def print_square(num):\n",
    "    print(\"Square: {}\" .format(num * num))\n",
    "\n",
    "\n",
    "if __name__ ==\"__main__\":\n",
    "    t1 = threading.Thread(target=print_square, args=(10,))\n",
    "    t2 = threading.Thread(target=print_cube, args=(10,))\n",
    "\n",
    "    t1.start()\n",
    "    t2.start()\n",
    "\n",
    "    t1.join()\n",
    "    t2.join()\n",
    "\n",
    "    print(\"Done!\")"
   ]
  },
  {
   "cell_type": "code",
   "execution_count": 2,
   "metadata": {},
   "outputs": [
    {
     "name": "stdout",
     "output_type": "stream",
     "text": [
      "2025-05-05T09:56:47.274217+00:00Z\n"
     ]
    }
   ],
   "source": [
    "from datetime import datetime, UTC\n",
    "\n",
    "now_utc = datetime.now(UTC)\n",
    "print(now_utc.isoformat() + \"Z\")  # Append 'Z' to indicate UTC"
   ]
  },
  {
   "cell_type": "code",
   "execution_count": 3,
   "metadata": {},
   "outputs": [
    {
     "name": "stdout",
     "output_type": "stream",
     "text": [
      "1 2025-05-05T09:58:19.707082+00:00Z\n",
      "2 2025-05-05T09:58:19.707509+00:00Z\n",
      "Done!\n"
     ]
    }
   ],
   "source": [
    "import threading\n",
    "\n",
    "def thread_one(num):\n",
    "    now_utc = datetime.now(UTC)\n",
    "    print(num, now_utc.isoformat() + \"Z\")  # Append 'Z' to indicate UTC\n",
    "\n",
    "def thread_two(num):\n",
    "    now_utc = datetime.now(UTC)\n",
    "    print(num, now_utc.isoformat() + \"Z\")  # Append 'Z' to indicate UTC\n",
    "\n",
    "if __name__ ==\"__main__\":\n",
    "    t1 = threading.Thread(target=thread_one, args=(1,))\n",
    "    t2 = threading.Thread(target=thread_two, args=(2,))\n",
    "\n",
    "    t1.start()\n",
    "    t2.start()\n",
    "\n",
    "    t1.join()\n",
    "    t2.join()\n",
    "\n",
    "    print(\"Done!\")"
   ]
  },
  {
   "cell_type": "code",
   "execution_count": 4,
   "metadata": {},
   "outputs": [
    {
     "name": "stdout",
     "output_type": "stream",
     "text": [
      "2: 2025-05-05T10:03:06.778693+00:00ZDone!\n"
     ]
    }
   ],
   "source": [
    "import threading\n",
    "\n",
    "def thread_one(num):\n",
    "    while True:\n",
    "        now_utc = datetime.now(UTC)\n",
    "        print(f\"\\r{num}: {now_utc.isoformat()}Z\",  end='', flush=True)  # Append 'Z' to indicate UTC\n",
    "\n",
    "def thread_two(num):\n",
    "    while True:\n",
    "        now_utc = datetime.now(UTC)\n",
    "        print(f\"\\r{num}: {now_utc.isoformat()}Z\",  end='', flush=True)  # Append 'Z' to indicate UTC\n",
    "\n",
    "if __name__ ==\"__main__\":\n",
    "    t1 = threading.Thread(target=thread_one, args=(1,))\n",
    "    t2 = threading.Thread(target=thread_two, args=(2,))\n",
    "\n",
    "    t1.start()\n",
    "    t2.start()\n",
    "\n",
    "    t1.join()\n",
    "    t2.join()\n",
    "\n",
    "    print(\"Done!\")"
   ]
  },
  {
   "cell_type": "code",
   "execution_count": 1,
   "metadata": {},
   "outputs": [
    {
     "name": "stderr",
     "output_type": "stream",
     "text": [
      "Exception in thread Thread-4 (thread_one):\n",
      "Traceback (most recent call last):\n",
      "  File \"/opt/homebrew/Cellar/python@3.11/3.11.11/Frameworks/Python.framework/Versions/3.11/lib/python3.11/threading.py\", line 1045, in _bootstrap_inner\n",
      "Exception in thread Thread-5 (thread_two):\n",
      "Traceback (most recent call last):\n",
      "  File \"/opt/homebrew/Cellar/python@3.11/3.11.11/Frameworks/Python.framework/Versions/3.11/lib/python3.11/threading.py\", line 1045, in _bootstrap_inner\n",
      "    self.run()\n",
      "  File \"/Users/aleccandidato/Projects/Supporters/.venv/lib/python3.11/site-packages/ipykernel/ipkernel.py\", line 766, in run_closure\n",
      "    self.run()\n",
      "  File \"/Users/aleccandidato/Projects/Supporters/.venv/lib/python3.11/site-packages/ipykernel/ipkernel.py\", line 766, in run_closure\n",
      "    _threading_Thread_run(self)\n",
      "  File \"/opt/homebrew/Cellar/python@3.11/3.11.11/Frameworks/Python.framework/Versions/3.11/lib/python3.11/threading.py\", line 982, in run\n",
      "    self._target(*self._args, **self._kwargs)\n",
      "  File \"/var/folders/vq/gzgtrf617hj57p_1vm5p758c0000gn/T/ipykernel_46997/636537783.py\", line 5, in thread_one\n",
      "    _threading_Thread_run(self)\n",
      "  File \"/opt/homebrew/Cellar/python@3.11/3.11.11/Frameworks/Python.framework/Versions/3.11/lib/python3.11/threading.py\", line 982, in run\n",
      "    self._target(*self._args, **self._kwargs)\n",
      "  File \"/var/folders/vq/gzgtrf617hj57p_1vm5p758c0000gn/T/ipykernel_46997/636537783.py\", line 10, in thread_two\n",
      "NameError: name 'datetime' is not defined\n",
      "NameError: name 'datetime' is not defined\n"
     ]
    },
    {
     "name": "stdout",
     "output_type": "stream",
     "text": [
      "Done!\n"
     ]
    }
   ],
   "source": [
    "import threading\n",
    "from datetime import datetime, UTC\n",
    "\n",
    "def thread_one(num):\n",
    "    while True:\n",
    "        now_utc = datetime.now(UTC)\n",
    "        print(f\"{num}: {now_utc.isoformat()}Z\",  end='', flush=True)  # Append 'Z' to indicate UTC\n",
    "\n",
    "def thread_two(num):\n",
    "    while True:\n",
    "        now_utc = datetime.now(UTC)\n",
    "        print(f\"{num}: {now_utc.isoformat()}Z\",  end='', flush=True)  # Append 'Z' to indicate UTC\n",
    "\n",
    "if __name__ ==\"__main__\":\n",
    "    t1 = threading.Thread(target=thread_one, args=(1,))\n",
    "    t2 = threading.Thread(target=thread_two, args=(2,))\n",
    "\n",
    "    t1.start()\n",
    "    t2.start()\n",
    "\n",
    "    t1.join()\n",
    "    t2.join()\n",
    "\n",
    "    print(\"Done!\")"
   ]
  },
  {
   "cell_type": "code",
   "execution_count": 5,
   "metadata": {},
   "outputs": [
    {
     "name": "stdout",
     "output_type": "stream",
     "text": [
      "Thread 0 initialized\n",
      "Thread 1 initialized\n",
      "Thread 2 initialized\n",
      "Workers Status: True\n",
      "Thread 1 ready!\n",
      "Thread 2 ready!\n",
      "Done\n"
     ]
    }
   ],
   "source": [
    "threads_initialized = False\n",
    "\n",
    "def target_main(num):\n",
    "    # Initialize Target Thread\n",
    "    thread_main[\"status\"] = \"init\"\n",
    "    print(f\"Thread {num} initialized\")\n",
    "\n",
    "    # Wait for workers init\n",
    "    workers_status = thread_main[\"workers_initialized\"]\n",
    "    while not workers_status:\n",
    "        if (thread_one[\"status\"] == \"init\") and (thread_two[\"status\"] == \"init\"):\n",
    "            thread_main[\"workers_initialized\"] = True\n",
    "        workers_status = thread_main[\"workers_initialized\"]\n",
    "    \n",
    "\n",
    "    # Run once all workers initialized\n",
    "    print(f\"Workers Status: {workers_status}\")\n",
    "    \n",
    "def target_one(num):\n",
    "    # Initialize Thread 1\n",
    "    thread_one[\"status\"] = \"init\"\n",
    "    print(f\"Thread {num} initialized\")\n",
    "\n",
    "    # Wait for workers init\n",
    "    workers_status = thread_main[\"workers_initialized\"]\n",
    "    while not workers_status:\n",
    "        workers_status = thread_main[\"workers_initialized\"]\n",
    "    \n",
    "    # Run once all workers initialized\n",
    "    print(f\"Thread {num} ready!\")\n",
    "    pass\n",
    "\n",
    "def target_two(num):\n",
    "    # Initialize Thread 2\n",
    "    thread_two[\"status\"] = \"init\"\n",
    "    print(f\"Thread {num} initialized\")\n",
    "\n",
    "    # Wait for workers init\n",
    "    workers_status = thread_main[\"workers_initialized\"]\n",
    "    while not workers_status:\n",
    "        workers_status = thread_main[\"workers_initialized\"]\n",
    "\n",
    "    # Run once all workers initialized\n",
    "    print(f\"Thread {num} ready!\")\n",
    "    pass\n",
    "\n",
    "thread_main = {\n",
    "    \"status\": \"stop\",\n",
    "    \"workers_initialized\": False\n",
    "}\n",
    "\n",
    "thread_one = {\n",
    "    \"status\": \"stop\",\n",
    "    \"target_function\": target_one\n",
    "}\n",
    "thread_two = {\n",
    "    \"status\": \"stop\",\n",
    "    \"target_function\": target_two\n",
    "}\n",
    "\n",
    "if __name__ == \"__main__\":\n",
    "    t_0 = threading.Thread(target=target_main, args=(0,))\n",
    "    t_1 = threading.Thread(target=target_one, args=(1,))\n",
    "    t_2 = threading.Thread(target=target_two, args=(2,))\n",
    "\n",
    "    t_0.start()\n",
    "    t_1.start()\n",
    "    t_2.start()\n",
    "\n",
    "    t_0.join()\n",
    "    t_1.join()\n",
    "    t_2.join()\n",
    "\n",
    "    print(\"Done\")\n"
   ]
  },
  {
   "cell_type": "code",
   "execution_count": null,
   "metadata": {},
   "outputs": [],
   "source": []
  }
 ],
 "metadata": {
  "kernelspec": {
   "display_name": ".venv",
   "language": "python",
   "name": "python3"
  },
  "language_info": {
   "codemirror_mode": {
    "name": "ipython",
    "version": 3
   },
   "file_extension": ".py",
   "mimetype": "text/x-python",
   "name": "python",
   "nbconvert_exporter": "python",
   "pygments_lexer": "ipython3",
   "version": "3.11.11"
  }
 },
 "nbformat": 4,
 "nbformat_minor": 2
}
